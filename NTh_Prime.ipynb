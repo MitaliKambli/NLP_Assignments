{
  "nbformat": 4,
  "nbformat_minor": 0,
  "metadata": {
    "colab": {
      "name": "NTh_Prime.ipynb",
      "provenance": []
    },
    "kernelspec": {
      "name": "python3",
      "display_name": "Python 3"
    }
  },
  "cells": [
    {
      "cell_type": "code",
      "metadata": {
        "id": "XE2TJx8jq_Fv",
        "colab_type": "code",
        "colab": {}
      },
      "source": [
        "prime_numbers = [2,3]\n",
        "def Nth_prime(n):\n",
        "    i=3\n",
        "    if(0<n<3):\n",
        "        print(n,'th Prime Number is :',prime_numbers[n-1])\n",
        "    elif(n>2):\n",
        "        while (len(prime_numbers)<n):\n",
        "            i+=1\n",
        "            count = 0\n",
        "            for j in range(2,int(i/2)+1):\n",
        "                if(i%j==0):\n",
        "                    count += 1\n",
        "                    break\n",
        "            if(count==0):\n",
        "                prime_numbers.append(i)\n",
        "        print(n,'th Prime Number is :', prime_numbers[n-1])\n",
        "\n",
        "Nth_prime(10)"
      ],
      "execution_count": 0,
      "outputs": []
    }
  ]
}