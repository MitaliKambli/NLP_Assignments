{
  "nbformat": 4,
  "nbformat_minor": 0,
  "metadata": {
    "colab": {
      "name": "Word_Count.ipynb",
      "provenance": []
    },
    "kernelspec": {
      "name": "python3",
      "display_name": "Python 3"
    }
  },
  "cells": [
    {
      "cell_type": "code",
      "metadata": {
        "id": "WomGbOis0VE5",
        "colab_type": "code",
        "colab": {}
      },
      "source": [
        "def word_count(sentence):\n",
        "  sentence = sentence.split()\n",
        "  ls = []  \n",
        "  for i in sentence:\n",
        "      word_count = sentence.count(i)\n",
        "      ls.append((i,word_count))       \n",
        "  d = dict(ls)\n",
        "  print (d)\n",
        "\n",
        "import pandas as pd\n",
        "import urllib, json\n",
        "df=pd.read_json(\"http://snap.stanford.edu/data/amazon/productGraph/categoryFiles/reviews_Office_Products_5.json.gz\",lines=True)\n",
        "df['reviewText_wordcount']= df['reviewText'].apply(word_count)\n",
        "df['summary_wordcount']= df['summary'].apply(word_count)\n",
        "print(df.columns)"
      ],
      "execution_count": 0,
      "outputs": []
    }
  ]
}